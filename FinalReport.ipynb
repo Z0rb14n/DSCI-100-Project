{
 "cells": [
  {
   "cell_type": "markdown",
   "id": "500d9fc6-e895-4d13-9bbb-7845f86338e6",
   "metadata": {},
   "source": [
    "# European Airbnb Listing Price Analysis - a Report\n",
    "\n",
    "## Preliminary Data Loading"
   ]
  },
  {
   "cell_type": "code",
   "execution_count": 1,
   "id": "68402a0f-d826-4490-8d13-f8687a6a583a",
   "metadata": {
    "tags": []
   },
   "outputs": [],
   "source": [
    "options(tidyverse.quiet = TRUE)\n",
    "suppressPackageStartupMessages(library(tidyverse))\n",
    "suppressPackageStartupMessages(library(tidymodels))\n",
    "# Cities are, amsterdam, athens, barcelona, berlin, budapest, lisbon, london, paris, rome, vienna, days are weekdays, weekends\n",
    "url_first <- \"https://zenodo.org/record/4446043/files/\"\n",
    "cities <- c(\"amsterdam\", \"athens\", \"barcelona\", \"berlin\", \"budapest\", \"lisbon\", \"london\", \"paris\", \"rome\", \"vienna\");\n",
    "total_dataset <- tibble()\n",
    "for (i in 1:10) {\n",
    "    sub_data <- read_csv(paste(url_first, cities[i], \"_weekdays.csv\", sep =\"\")) |>\n",
    "        mutate(city = cities[i]) |>\n",
    "        mutate(day = \"weekday\") |>\n",
    "        suppressMessages()\n",
    "    Sys.sleep(0.5) # don't overload their server\n",
    "    sub_data_end <- read_csv(paste(url_first, cities[i], \"_weekends.csv\", sep =\"\")) |>\n",
    "        mutate(city = cities[i]) |>\n",
    "        mutate(day = \"weekend\") |>\n",
    "        suppressMessages()\n",
    "    total_dataset <- bind_rows(total_dataset, sub_data, sub_data_end)\n",
    "    Sys.sleep(0.5) # don't overload their server\n",
    "}"
   ]
  },
  {
   "cell_type": "code",
   "execution_count": 3,
   "id": "580ac169-2d3b-47f8-a592-cff68c176391",
   "metadata": {},
   "outputs": [
    {
     "data": {
      "text/html": [
       "<style>\n",
       ".list-inline {list-style: none; margin:0; padding: 0}\n",
       ".list-inline>li {display: inline-block}\n",
       ".list-inline>li:not(:last-child)::after {content: \"\\00b7\"; padding: 0 .5ex}\n",
       "</style>\n",
       "<ol class=list-inline><li>'Private room'</li><li>'Entire home/apt'</li><li>'Shared room'</li></ol>\n"
      ],
      "text/latex": [
       "\\begin{enumerate*}\n",
       "\\item 'Private room'\n",
       "\\item 'Entire home/apt'\n",
       "\\item 'Shared room'\n",
       "\\end{enumerate*}\n"
      ],
      "text/markdown": [
       "1. 'Private room'\n",
       "2. 'Entire home/apt'\n",
       "3. 'Shared room'\n",
       "\n",
       "\n"
      ],
      "text/plain": [
       "[1] \"Private room\"    \"Entire home/apt\" \"Shared room\"    "
      ]
     },
     "metadata": {},
     "output_type": "display_data"
    },
    {
     "name": "stdout",
     "output_type": "stream",
     "text": [
      "Rows: 51,707\n",
      "Columns: 17\n",
      "$ cost                       \u001b[3m\u001b[90m<dbl>\u001b[39m\u001b[23m 194.0337, 344.2458, 264.1014, 433.5294, 485…\n",
      "$ room_type                  \u001b[3m\u001b[90m<fct>\u001b[39m\u001b[23m Private room, Private room, Private room, P…\n",
      "$ person_capacity            \u001b[3m\u001b[90m<dbl>\u001b[39m\u001b[23m 2, 4, 2, 4, 2, 3, 2, 4, 4, 2, 2, 2, 4, 2, 2…\n",
      "$ host_is_superhost          \u001b[3m\u001b[90m<lgl>\u001b[39m\u001b[23m FALSE, FALSE, FALSE, FALSE, TRUE, FALSE, FA…\n",
      "$ multi                      \u001b[3m\u001b[90m<fct>\u001b[39m\u001b[23m 1, 0, 0, 0, 0, 0, 0, 0, 0, 1, 0, 1, 0, 0, 1…\n",
      "$ biz                        \u001b[3m\u001b[90m<fct>\u001b[39m\u001b[23m 0, 0, 1, 1, 0, 0, 0, 0, 0, 0, 0, 0, 0, 0, 0…\n",
      "$ cleanliness_rating         \u001b[3m\u001b[90m<dbl>\u001b[39m\u001b[23m 10, 8, 9, 9, 10, 8, 10, 10, 9, 10, 10, 10, …\n",
      "$ guest_satisfaction_overall \u001b[3m\u001b[90m<dbl>\u001b[39m\u001b[23m 93, 85, 87, 90, 98, 100, 94, 100, 96, 88, 9…\n",
      "$ bedrooms                   \u001b[3m\u001b[90m<dbl>\u001b[39m\u001b[23m 1, 1, 1, 2, 1, 2, 1, 3, 2, 1, 1, 1, 1, 1, 1…\n",
      "$ dist_from_city_centre      \u001b[3m\u001b[90m<dbl>\u001b[39m\u001b[23m 5.0229638, 0.4883893, 5.7483119, 0.3848620,…\n",
      "$ metro_dist                 \u001b[3m\u001b[90m<dbl>\u001b[39m\u001b[23m 2.5393800, 0.2394039, 3.6516213, 0.4398761,…\n",
      "$ attraction_index           \u001b[3m\u001b[90m<dbl>\u001b[39m\u001b[23m 4.166708, 33.421209, 3.985908, 26.119108, 2…\n",
      "$ restaurant_index           \u001b[3m\u001b[90m<dbl>\u001b[39m\u001b[23m 6.846473, 58.342928, 6.646700, 60.973565, 5…\n",
      "$ lng                        \u001b[3m\u001b[90m<dbl>\u001b[39m\u001b[23m 4.90569, 4.90005, 4.97512, 4.89417, 4.90051…\n",
      "$ lat                        \u001b[3m\u001b[90m<dbl>\u001b[39m\u001b[23m 52.41772, 52.37432, 52.36103, 52.37663, 52.…\n",
      "$ city                       \u001b[3m\u001b[90m<fct>\u001b[39m\u001b[23m amsterdam, amsterdam, amsterdam, amsterdam,…\n",
      "$ day                        \u001b[3m\u001b[90m<fct>\u001b[39m\u001b[23m weekday, weekday, weekday, weekday, weekday…\n"
     ]
    }
   ],
   "source": [
    "set.seed(420);\n",
    "\n",
    "# clean data\n",
    "airbnb_clean <- total_dataset |>\n",
    "    select(-1) |> #some incrementing number\n",
    "# according to https://zenodo.org/record/4446043#.Y9Y9ENJBwUE these columns are dummies:\n",
    "    select(-room_private, -room_shared) |>\n",
    "# apparently these are already scaled to [0,100] - drop the duplicate\n",
    "    select(-attr_index, -rest_index) |>\n",
    "    mutate(room_type = as_factor(room_type)) |>\n",
    "    mutate(city = as_factor(city), day = as_factor(day), multi = as_factor(multi), biz = as_factor(biz)) |>\n",
    "    rename(dist_from_city_centre = dist,\n",
    "           cost = realSum,\n",
    "           attraction_index = attr_index_norm,\n",
    "           restaurant_index = rest_index_norm)\n",
    "\n",
    "airbnb_clean |>\n",
    "    select(room_type) |>\n",
    "    pull() |>\n",
    "    levels()\n",
    "\n",
    "glimpse(airbnb_clean)\n",
    "\n",
    "airbnb_split <- initial_split(airbnb_clean, prop = 0.75, strata = room_type)\n",
    "airbnb_train <- training(airbnb_split)\n",
    "airbnb_test <- testing(airbnb_split)"
   ]
  },
  {
   "cell_type": "markdown",
   "id": "e59d2ccf-9c0e-4454-acc2-e1717ee4faf8",
   "metadata": {},
   "source": [
    "## Introduction\n",
    "\n",
    "#! should've trimmed this down!!\n",
    "\n",
    "Europe is the most traveled region in the world (UNWTO, 2023) and there are many countries to explore. In order to have the most enjoyable trip, proper planning and budgeting is required. Airbnb is one of the most popular ways to find accommodation while you travel. Hence, we would like to determine what factors determine the price of an Airbnb listing in ten most popular European cities, how strongly they affect Airbnb listing prices, and build a model that predicts the price given properties about the listing. We will use the dataset(s) from a study published in Tourism Management titled, “Determinants of Airbnb prices in European cities: A spatial econometrics approach”. These datasets are separated by city and type of day and includes the price and type of listing (shared or entire home), maximum capacity of rental, and cleanliness rating, among other factors."
   ]
  },
  {
   "cell_type": "markdown",
   "id": "9563910d-bc3e-4e0a-8998-26e64736d007",
   "metadata": {},
   "source": [
    "## Methods and Results\n",
    "- describe in written English the methods you used to perform your analysis from beginning to end that narrates the code the does the analysis.\n",
    "- your report should include code which:\n",
    "  - loads data from the original source on the web \n",
    "  - wrangles and cleans the data from it's original (downloaded) format to the format necessary for the planned analysis\n",
    "  - performs a summary of the data set that is relevant for exploratory data analysis related to the planned analysis \n",
    "  - creates a visualization of the dataset that is relevant for exploratory data analysis related to the planned analysis\n",
    "  - performs the data analysis\n",
    "  - creates a visualization of the analysis \n",
    "  - note: all tables and figure should have a figure/table number and a legend"
   ]
  },
  {
   "cell_type": "markdown",
   "id": "9a3bae6d-b2ab-4eaf-a660-32d1ae294550",
   "metadata": {},
   "source": [
    "## Discussion\n",
    " - summarize what you found\n",
    " - discuss whether this is what you expected to find?\n",
    " - discuss what impact could such findings have?\n",
    " - discuss what future questions could this lead to?\n",
    "\n",
    "## References\n",
    "\n",
    "- At least 2 citations of literature relevant to the project (format is your choice, just be consistent across the references).\n",
    "- Make sure to cite the source of your data as well."
   ]
  },
  {
   "cell_type": "code",
   "execution_count": null,
   "id": "073c3eda-075b-4085-b547-35a6657119b1",
   "metadata": {},
   "outputs": [],
   "source": []
  }
 ],
 "metadata": {
  "kernelspec": {
   "display_name": "R",
   "language": "R",
   "name": "ir"
  },
  "language_info": {
   "codemirror_mode": "r",
   "file_extension": ".r",
   "mimetype": "text/x-r-source",
   "name": "R",
   "pygments_lexer": "r",
   "version": "4.2.3"
  }
 },
 "nbformat": 4,
 "nbformat_minor": 5
}
