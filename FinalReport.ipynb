{
 "cells": [
  {
   "cell_type": "markdown",
   "id": "500d9fc6-e895-4d13-9bbb-7845f86338e6",
   "metadata": {},
   "source": [
    "# European Airbnb Listing Price Analysis - a Report\n",
    "\n",
    "## Preliminary Data Loading"
   ]
  },
  {
   "cell_type": "code",
   "execution_count": 3,
   "id": "68402a0f-d826-4490-8d13-f8687a6a583a",
   "metadata": {},
   "outputs": [],
   "source": [
    "options(tidyverse.quiet = TRUE)\n",
    "suppressPackageStartupMessages(library(tidyverse))\n",
    "suppressPackageStartupMessages(library(tidymodels))\n",
    "# Cities are, amsterdam, athens, barcelona, berlin, budapest, lisbon, london, paris, rome, vienna, days are weekdays, weekends\n",
    "url_first <- \"https://zenodo.org/record/4446043/files/\"\n",
    "cities <- c(\"amsterdam\", \"athens\", \"barcelona\", \"berlin\", \"budapest\", \"lisbon\", \"london\", \"paris\", \"rome\", \"vienna\");\n",
    "total_dataset <- tibble()\n",
    "for (i in 1:10) {\n",
    "    sub_data <- read_csv(paste(url_first, cities[i], \"_weekdays.csv\", sep =\"\")) |>\n",
    "        mutate(city = cities[i]) |>\n",
    "        mutate(day = \"weekday\") |>\n",
    "        suppressMessages()\n",
    "    Sys.sleep(0.5) # don't overload their server\n",
    "    sub_data_end <- read_csv(paste(url_first, cities[i], \"_weekends.csv\", sep =\"\")) |>\n",
    "        mutate(city = cities[i]) |>\n",
    "        mutate(day = \"weekend\") |>\n",
    "        suppressMessages()\n",
    "    total_dataset <- bind_rows(total_dataset, sub_data, sub_data_end)\n",
    "    Sys.sleep(0.5) # don't overload their server\n",
    "}"
   ]
  },
  {
   "cell_type": "code",
   "execution_count": null,
   "id": "580ac169-2d3b-47f8-a592-cff68c176391",
   "metadata": {},
   "outputs": [],
   "source": [
    "set.seed(420);\n",
    "\n",
    "airbnb_split <- initial_split(airbnb_clean, prop = 0.75, strata = room_type)\n",
    "airbnb_train <- training(airbnb_split)\n",
    "airbnb_test <- testing(airbnb_split)"
   ]
  },
  {
   "cell_type": "markdown",
   "id": "e59d2ccf-9c0e-4454-acc2-e1717ee4faf8",
   "metadata": {},
   "source": [
    "## Introduction\n",
    "\n",
    "#! should've trimmed this down!!\n",
    "\n",
    "Europe is the most traveled region in the world (UNWTO, 2023) and there are many countries to explore. In order to have the most enjoyable trip, proper planning and budgeting is required. Airbnb is one of the most popular ways to find accommodation while you travel. Hence, we would like to determine what factors determine the price of an Airbnb listing in ten most popular European cities, how strongly they affect Airbnb listing prices, and build a model that predicts the price given properties about the listing. We will use the dataset(s) from a study published in Tourism Management titled, “Determinants of Airbnb prices in European cities: A spatial econometrics approach”. These datasets are separated by city and type of day and includes the price and type of listing (shared or entire home), maximum capacity of rental, and cleanliness rating, among other factors."
   ]
  },
  {
   "cell_type": "markdown",
   "id": "9563910d-bc3e-4e0a-8998-26e64736d007",
   "metadata": {},
   "source": [
    "## Methods and Results\n",
    "- describe in written English the methods you used to perform your analysis from beginning to end that narrates the code the does the analysis.\n",
    "- your report should include code which:\n",
    "  - loads data from the original source on the web \n",
    "  - wrangles and cleans the data from it's original (downloaded) format to the format necessary for the planned analysis\n",
    "  - performs a summary of the data set that is relevant for exploratory data analysis related to the planned analysis \n",
    "  - creates a visualization of the dataset that is relevant for exploratory data analysis related to the planned analysis\n",
    "  - performs the data analysis\n",
    "  - creates a visualization of the analysis \n",
    "  - note: all tables and figure should have a figure/table number and a legend"
   ]
  },
  {
   "cell_type": "markdown",
   "id": "9a3bae6d-b2ab-4eaf-a660-32d1ae294550",
   "metadata": {},
   "source": [
    "## Discussion\n",
    " - summarize what you found\n",
    " - discuss whether this is what you expected to find?\n",
    " - discuss what impact could such findings have?\n",
    " - discuss what future questions could this lead to?\n",
    "\n",
    "## References\n",
    "\n",
    "- At least 2 citations of literature relevant to the project (format is your choice, just be consistent across the references).\n",
    "- Make sure to cite the source of your data as well."
   ]
  },
  {
   "cell_type": "code",
   "execution_count": null,
   "id": "073c3eda-075b-4085-b547-35a6657119b1",
   "metadata": {},
   "outputs": [],
   "source": []
  }
 ],
 "metadata": {
  "kernelspec": {
   "display_name": "R",
   "language": "R",
   "name": "ir"
  },
  "language_info": {
   "codemirror_mode": "r",
   "file_extension": ".r",
   "mimetype": "text/x-r-source",
   "name": "R",
   "pygments_lexer": "r",
   "version": "4.1.3"
  }
 },
 "nbformat": 4,
 "nbformat_minor": 5
}
