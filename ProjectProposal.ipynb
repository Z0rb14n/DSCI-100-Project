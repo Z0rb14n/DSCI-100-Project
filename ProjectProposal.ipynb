{
 "cells": [
  {
   "cell_type": "markdown",
   "id": "8cad2991-087a-4afc-b9b2-16bf6c6ca168",
   "metadata": {},
   "source": [
    "# (Project Proposal Title)\n",
    "\n",
    "## Introduction\n",
    "\n",
    "(Provide some relevant background information on the topic so that someone unfamiliar with it will be prepared to understand the rest of your proposal)\n",
    "\n",
    "(Clearly state the question you will try to answer with your project)\n",
    "\n",
    "(Identify and describe the dataset that will be used to answer the question)"
   ]
  },
  {
   "cell_type": "markdown",
   "id": "20584af9-103b-42b6-9e37-67278c400344",
   "metadata": {},
   "source": [
    "## Preliminary Exploratory Data Analysis"
   ]
  },
  {
   "cell_type": "code",
   "execution_count": 1,
   "id": "74d703ea-2790-46b9-9a2c-43bd74146cf4",
   "metadata": {},
   "outputs": [],
   "source": [
    "# read data"
   ]
  },
  {
   "cell_type": "code",
   "execution_count": 2,
   "id": "da826c4d-c468-4065-9e0b-f2141e32ff3b",
   "metadata": {},
   "outputs": [],
   "source": [
    "# clean, wrangle data"
   ]
  },
  {
   "cell_type": "code",
   "execution_count": 3,
   "id": "e48a28eb-d1b6-4d19-b09e-a0281f17951e",
   "metadata": {},
   "outputs": [],
   "source": [
    "# Summarize training data"
   ]
  },
  {
   "cell_type": "code",
   "execution_count": 4,
   "id": "60912bc3-d0f5-49e7-ae71-a993bf8ab061",
   "metadata": {},
   "outputs": [],
   "source": [
    "# Visualize training data"
   ]
  },
  {
   "cell_type": "markdown",
   "id": "7c2d3aef-ed7d-44fc-b5e4-2e62a9093e08",
   "metadata": {},
   "source": [
    "## Methods\n",
    "(Explain how you will conduct either your data analysis and which variables/columns you will use)\n",
    "- Note - you do not need to use all variables/columns that exist in the raw data set. In fact, that's often not a good idea. For each variable think: is this a useful variable for prediction?\n",
    "\n",
    "(Describe at least one way that you will visualize the results)\n",
    "\n",
    "## Expected outcomes and significance:\n",
    "### What do you expect to find?\n",
    "TBD\n",
    "### What impact could such findings have?\n",
    "TBD\n",
    "### What future questions could this lead to?\n",
    "TBD"
   ]
  }
 ],
 "metadata": {
  "kernelspec": {
   "display_name": "R",
   "language": "R",
   "name": "ir"
  },
  "language_info": {
   "codemirror_mode": "r",
   "file_extension": ".r",
   "mimetype": "text/x-r-source",
   "name": "R",
   "pygments_lexer": "r",
   "version": "4.2.2"
  }
 },
 "nbformat": 4,
 "nbformat_minor": 5
}
