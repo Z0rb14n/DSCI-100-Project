{
 "cells": [
  {
   "cell_type": "markdown",
   "id": "8cad2991-087a-4afc-b9b2-16bf6c6ca168",
   "metadata": {},
   "source": [
    "# (Project Proposal Title)\n",
    "\n",
    "## Introduction\n",
    "\n",
    "(Provide some relevant background information on the topic so that someone unfamiliar with it will be prepared to understand the rest of your proposal)\n",
    "\n",
    "(Clearly state the question you will try to answer with your project)\n",
    "\n",
    "(Identify and describe the dataset that will be used to answer the question)"
   ]
  },
  {
   "cell_type": "markdown",
   "id": "20584af9-103b-42b6-9e37-67278c400344",
   "metadata": {},
   "source": [
    "## Preliminary Exploratory Data Analysis"
   ]
  },
  {
   "cell_type": "code",
   "execution_count": 9,
   "id": "74d703ea-2790-46b9-9a2c-43bd74146cf4",
   "metadata": {},
   "outputs": [
    {
     "name": "stdout",
     "output_type": "stream",
     "text": [
      "[1] \"https://zenodo.org/record/4446043/files/amsterdam_weekdays.csv\"\n"
     ]
    },
    {
     "name": "stderr",
     "output_type": "stream",
     "text": [
      "\u001b[1m\u001b[22mNew names:\n",
      "\u001b[36m•\u001b[39m `` -> `...1`\n",
      "\u001b[1mRows: \u001b[22m\u001b[34m1103\u001b[39m \u001b[1mColumns: \u001b[22m\u001b[34m20\u001b[39m\n",
      "\u001b[36m──\u001b[39m \u001b[1mColumn specification\u001b[22m \u001b[36m────────────────────────────────────────────────────────\u001b[39m\n",
      "\u001b[1mDelimiter:\u001b[22m \",\"\n",
      "\u001b[31mchr\u001b[39m  (1): room_type\n",
      "\u001b[32mdbl\u001b[39m (16): ...1, realSum, person_capacity, multi, biz, cleanliness_rating, gu...\n",
      "\u001b[33mlgl\u001b[39m  (3): room_shared, room_private, host_is_superhost\n",
      "\n",
      "\u001b[36mℹ\u001b[39m Use `spec()` to retrieve the full column specification for this data.\n",
      "\u001b[36mℹ\u001b[39m Specify the column types or set `show_col_types = FALSE` to quiet this message.\n",
      "\u001b[1m\u001b[22mNew names:\n",
      "\u001b[36m•\u001b[39m `` -> `...1`\n",
      "\u001b[1mRows: \u001b[22m\u001b[34m977\u001b[39m \u001b[1mColumns: \u001b[22m\u001b[34m20\u001b[39m\n",
      "\u001b[36m──\u001b[39m \u001b[1mColumn specification\u001b[22m \u001b[36m────────────────────────────────────────────────────────\u001b[39m\n",
      "\u001b[1mDelimiter:\u001b[22m \",\"\n",
      "\u001b[31mchr\u001b[39m  (1): room_type\n",
      "\u001b[32mdbl\u001b[39m (16): ...1, realSum, person_capacity, multi, biz, cleanliness_rating, gu...\n",
      "\u001b[33mlgl\u001b[39m  (3): room_shared, room_private, host_is_superhost\n",
      "\n",
      "\u001b[36mℹ\u001b[39m Use `spec()` to retrieve the full column specification for this data.\n",
      "\u001b[36mℹ\u001b[39m Specify the column types or set `show_col_types = FALSE` to quiet this message.\n"
     ]
    },
    {
     "name": "stdout",
     "output_type": "stream",
     "text": [
      "[1] \"https://zenodo.org/record/4446043/files/athens_weekdays.csv\"\n"
     ]
    },
    {
     "name": "stderr",
     "output_type": "stream",
     "text": [
      "\u001b[1m\u001b[22mNew names:\n",
      "\u001b[36m•\u001b[39m `` -> `...1`\n",
      "\u001b[1mRows: \u001b[22m\u001b[34m2653\u001b[39m \u001b[1mColumns: \u001b[22m\u001b[34m20\u001b[39m\n",
      "\u001b[36m──\u001b[39m \u001b[1mColumn specification\u001b[22m \u001b[36m────────────────────────────────────────────────────────\u001b[39m\n",
      "\u001b[1mDelimiter:\u001b[22m \",\"\n",
      "\u001b[31mchr\u001b[39m  (1): room_type\n",
      "\u001b[32mdbl\u001b[39m (16): ...1, realSum, person_capacity, multi, biz, cleanliness_rating, gu...\n",
      "\u001b[33mlgl\u001b[39m  (3): room_shared, room_private, host_is_superhost\n",
      "\n",
      "\u001b[36mℹ\u001b[39m Use `spec()` to retrieve the full column specification for this data.\n",
      "\u001b[36mℹ\u001b[39m Specify the column types or set `show_col_types = FALSE` to quiet this message.\n",
      "\u001b[1m\u001b[22mNew names:\n",
      "\u001b[36m•\u001b[39m `` -> `...1`\n",
      "\u001b[1mRows: \u001b[22m\u001b[34m2627\u001b[39m \u001b[1mColumns: \u001b[22m\u001b[34m20\u001b[39m\n",
      "\u001b[36m──\u001b[39m \u001b[1mColumn specification\u001b[22m \u001b[36m────────────────────────────────────────────────────────\u001b[39m\n",
      "\u001b[1mDelimiter:\u001b[22m \",\"\n",
      "\u001b[31mchr\u001b[39m  (1): room_type\n",
      "\u001b[32mdbl\u001b[39m (16): ...1, realSum, person_capacity, multi, biz, cleanliness_rating, gu...\n",
      "\u001b[33mlgl\u001b[39m  (3): room_shared, room_private, host_is_superhost\n",
      "\n",
      "\u001b[36mℹ\u001b[39m Use `spec()` to retrieve the full column specification for this data.\n",
      "\u001b[36mℹ\u001b[39m Specify the column types or set `show_col_types = FALSE` to quiet this message.\n"
     ]
    },
    {
     "name": "stdout",
     "output_type": "stream",
     "text": [
      "[1] \"https://zenodo.org/record/4446043/files/barcelona_weekdays.csv\"\n"
     ]
    },
    {
     "name": "stderr",
     "output_type": "stream",
     "text": [
      "\u001b[1m\u001b[22mNew names:\n",
      "\u001b[36m•\u001b[39m `` -> `...1`\n",
      "\u001b[1mRows: \u001b[22m\u001b[34m1555\u001b[39m \u001b[1mColumns: \u001b[22m\u001b[34m20\u001b[39m\n",
      "\u001b[36m──\u001b[39m \u001b[1mColumn specification\u001b[22m \u001b[36m────────────────────────────────────────────────────────\u001b[39m\n",
      "\u001b[1mDelimiter:\u001b[22m \",\"\n",
      "\u001b[31mchr\u001b[39m  (1): room_type\n",
      "\u001b[32mdbl\u001b[39m (16): ...1, realSum, person_capacity, multi, biz, cleanliness_rating, gu...\n",
      "\u001b[33mlgl\u001b[39m  (3): room_shared, room_private, host_is_superhost\n",
      "\n",
      "\u001b[36mℹ\u001b[39m Use `spec()` to retrieve the full column specification for this data.\n",
      "\u001b[36mℹ\u001b[39m Specify the column types or set `show_col_types = FALSE` to quiet this message.\n",
      "\u001b[1m\u001b[22mNew names:\n",
      "\u001b[36m•\u001b[39m `` -> `...1`\n",
      "\u001b[1mRows: \u001b[22m\u001b[34m1278\u001b[39m \u001b[1mColumns: \u001b[22m\u001b[34m20\u001b[39m\n",
      "\u001b[36m──\u001b[39m \u001b[1mColumn specification\u001b[22m \u001b[36m────────────────────────────────────────────────────────\u001b[39m\n",
      "\u001b[1mDelimiter:\u001b[22m \",\"\n",
      "\u001b[31mchr\u001b[39m  (1): room_type\n",
      "\u001b[32mdbl\u001b[39m (16): ...1, realSum, person_capacity, multi, biz, cleanliness_rating, gu...\n",
      "\u001b[33mlgl\u001b[39m  (3): room_shared, room_private, host_is_superhost\n",
      "\n",
      "\u001b[36mℹ\u001b[39m Use `spec()` to retrieve the full column specification for this data.\n",
      "\u001b[36mℹ\u001b[39m Specify the column types or set `show_col_types = FALSE` to quiet this message.\n"
     ]
    },
    {
     "name": "stdout",
     "output_type": "stream",
     "text": [
      "[1] \"https://zenodo.org/record/4446043/files/berlin_weekdays.csv\"\n"
     ]
    },
    {
     "name": "stderr",
     "output_type": "stream",
     "text": [
      "\u001b[1m\u001b[22mNew names:\n",
      "\u001b[36m•\u001b[39m `` -> `...1`\n",
      "\u001b[1mRows: \u001b[22m\u001b[34m1284\u001b[39m \u001b[1mColumns: \u001b[22m\u001b[34m20\u001b[39m\n",
      "\u001b[36m──\u001b[39m \u001b[1mColumn specification\u001b[22m \u001b[36m────────────────────────────────────────────────────────\u001b[39m\n",
      "\u001b[1mDelimiter:\u001b[22m \",\"\n",
      "\u001b[31mchr\u001b[39m  (1): room_type\n",
      "\u001b[32mdbl\u001b[39m (16): ...1, realSum, person_capacity, multi, biz, cleanliness_rating, gu...\n",
      "\u001b[33mlgl\u001b[39m  (3): room_shared, room_private, host_is_superhost\n",
      "\n",
      "\u001b[36mℹ\u001b[39m Use `spec()` to retrieve the full column specification for this data.\n",
      "\u001b[36mℹ\u001b[39m Specify the column types or set `show_col_types = FALSE` to quiet this message.\n",
      "\u001b[1m\u001b[22mNew names:\n",
      "\u001b[36m•\u001b[39m `` -> `...1`\n",
      "\u001b[1mRows: \u001b[22m\u001b[34m1200\u001b[39m \u001b[1mColumns: \u001b[22m\u001b[34m20\u001b[39m\n",
      "\u001b[36m──\u001b[39m \u001b[1mColumn specification\u001b[22m \u001b[36m────────────────────────────────────────────────────────\u001b[39m\n",
      "\u001b[1mDelimiter:\u001b[22m \",\"\n",
      "\u001b[31mchr\u001b[39m  (1): room_type\n",
      "\u001b[32mdbl\u001b[39m (16): ...1, realSum, person_capacity, multi, biz, cleanliness_rating, gu...\n",
      "\u001b[33mlgl\u001b[39m  (3): room_shared, room_private, host_is_superhost\n",
      "\n",
      "\u001b[36mℹ\u001b[39m Use `spec()` to retrieve the full column specification for this data.\n",
      "\u001b[36mℹ\u001b[39m Specify the column types or set `show_col_types = FALSE` to quiet this message.\n"
     ]
    },
    {
     "name": "stdout",
     "output_type": "stream",
     "text": [
      "[1] \"https://zenodo.org/record/4446043/files/budapest_weekdays.csv\"\n"
     ]
    },
    {
     "name": "stderr",
     "output_type": "stream",
     "text": [
      "\u001b[1m\u001b[22mNew names:\n",
      "\u001b[36m•\u001b[39m `` -> `...1`\n",
      "\u001b[1mRows: \u001b[22m\u001b[34m2074\u001b[39m \u001b[1mColumns: \u001b[22m\u001b[34m20\u001b[39m\n",
      "\u001b[36m──\u001b[39m \u001b[1mColumn specification\u001b[22m \u001b[36m────────────────────────────────────────────────────────\u001b[39m\n",
      "\u001b[1mDelimiter:\u001b[22m \",\"\n",
      "\u001b[31mchr\u001b[39m  (1): room_type\n",
      "\u001b[32mdbl\u001b[39m (16): ...1, realSum, person_capacity, multi, biz, cleanliness_rating, gu...\n",
      "\u001b[33mlgl\u001b[39m  (3): room_shared, room_private, host_is_superhost\n",
      "\n",
      "\u001b[36mℹ\u001b[39m Use `spec()` to retrieve the full column specification for this data.\n",
      "\u001b[36mℹ\u001b[39m Specify the column types or set `show_col_types = FALSE` to quiet this message.\n",
      "\u001b[1m\u001b[22mNew names:\n",
      "\u001b[36m•\u001b[39m `` -> `...1`\n",
      "\u001b[1mRows: \u001b[22m\u001b[34m1948\u001b[39m \u001b[1mColumns: \u001b[22m\u001b[34m20\u001b[39m\n",
      "\u001b[36m──\u001b[39m \u001b[1mColumn specification\u001b[22m \u001b[36m────────────────────────────────────────────────────────\u001b[39m\n",
      "\u001b[1mDelimiter:\u001b[22m \",\"\n",
      "\u001b[31mchr\u001b[39m  (1): room_type\n",
      "\u001b[32mdbl\u001b[39m (16): ...1, realSum, person_capacity, multi, biz, cleanliness_rating, gu...\n",
      "\u001b[33mlgl\u001b[39m  (3): room_shared, room_private, host_is_superhost\n",
      "\n",
      "\u001b[36mℹ\u001b[39m Use `spec()` to retrieve the full column specification for this data.\n",
      "\u001b[36mℹ\u001b[39m Specify the column types or set `show_col_types = FALSE` to quiet this message.\n"
     ]
    },
    {
     "name": "stdout",
     "output_type": "stream",
     "text": [
      "[1] \"https://zenodo.org/record/4446043/files/lisbon_weekdays.csv\"\n"
     ]
    },
    {
     "name": "stderr",
     "output_type": "stream",
     "text": [
      "\u001b[1m\u001b[22mNew names:\n",
      "\u001b[36m•\u001b[39m `` -> `...1`\n",
      "\u001b[1mRows: \u001b[22m\u001b[34m2857\u001b[39m \u001b[1mColumns: \u001b[22m\u001b[34m20\u001b[39m\n",
      "\u001b[36m──\u001b[39m \u001b[1mColumn specification\u001b[22m \u001b[36m────────────────────────────────────────────────────────\u001b[39m\n",
      "\u001b[1mDelimiter:\u001b[22m \",\"\n",
      "\u001b[31mchr\u001b[39m  (1): room_type\n",
      "\u001b[32mdbl\u001b[39m (16): ...1, realSum, person_capacity, multi, biz, cleanliness_rating, gu...\n",
      "\u001b[33mlgl\u001b[39m  (3): room_shared, room_private, host_is_superhost\n",
      "\n",
      "\u001b[36mℹ\u001b[39m Use `spec()` to retrieve the full column specification for this data.\n",
      "\u001b[36mℹ\u001b[39m Specify the column types or set `show_col_types = FALSE` to quiet this message.\n",
      "\u001b[1m\u001b[22mNew names:\n",
      "\u001b[36m•\u001b[39m `` -> `...1`\n",
      "\u001b[1mRows: \u001b[22m\u001b[34m2906\u001b[39m \u001b[1mColumns: \u001b[22m\u001b[34m20\u001b[39m\n",
      "\u001b[36m──\u001b[39m \u001b[1mColumn specification\u001b[22m \u001b[36m────────────────────────────────────────────────────────\u001b[39m\n",
      "\u001b[1mDelimiter:\u001b[22m \",\"\n",
      "\u001b[31mchr\u001b[39m  (1): room_type\n",
      "\u001b[32mdbl\u001b[39m (16): ...1, realSum, person_capacity, multi, biz, cleanliness_rating, gu...\n",
      "\u001b[33mlgl\u001b[39m  (3): room_shared, room_private, host_is_superhost\n",
      "\n",
      "\u001b[36mℹ\u001b[39m Use `spec()` to retrieve the full column specification for this data.\n",
      "\u001b[36mℹ\u001b[39m Specify the column types or set `show_col_types = FALSE` to quiet this message.\n"
     ]
    },
    {
     "name": "stdout",
     "output_type": "stream",
     "text": [
      "[1] \"https://zenodo.org/record/4446043/files/london_weekdays.csv\"\n"
     ]
    },
    {
     "name": "stderr",
     "output_type": "stream",
     "text": [
      "\u001b[1m\u001b[22mNew names:\n",
      "\u001b[36m•\u001b[39m `` -> `...1`\n",
      "\u001b[1mRows: \u001b[22m\u001b[34m4614\u001b[39m \u001b[1mColumns: \u001b[22m\u001b[34m20\u001b[39m\n",
      "\u001b[36m──\u001b[39m \u001b[1mColumn specification\u001b[22m \u001b[36m────────────────────────────────────────────────────────\u001b[39m\n",
      "\u001b[1mDelimiter:\u001b[22m \",\"\n",
      "\u001b[31mchr\u001b[39m  (1): room_type\n",
      "\u001b[32mdbl\u001b[39m (16): ...1, realSum, person_capacity, multi, biz, cleanliness_rating, gu...\n",
      "\u001b[33mlgl\u001b[39m  (3): room_shared, room_private, host_is_superhost\n",
      "\n",
      "\u001b[36mℹ\u001b[39m Use `spec()` to retrieve the full column specification for this data.\n",
      "\u001b[36mℹ\u001b[39m Specify the column types or set `show_col_types = FALSE` to quiet this message.\n",
      "\u001b[1m\u001b[22mNew names:\n",
      "\u001b[36m•\u001b[39m `` -> `...1`\n",
      "\u001b[1mRows: \u001b[22m\u001b[34m5379\u001b[39m \u001b[1mColumns: \u001b[22m\u001b[34m20\u001b[39m\n",
      "\u001b[36m──\u001b[39m \u001b[1mColumn specification\u001b[22m \u001b[36m────────────────────────────────────────────────────────\u001b[39m\n",
      "\u001b[1mDelimiter:\u001b[22m \",\"\n",
      "\u001b[31mchr\u001b[39m  (1): room_type\n",
      "\u001b[32mdbl\u001b[39m (16): ...1, realSum, person_capacity, multi, biz, cleanliness_rating, gu...\n",
      "\u001b[33mlgl\u001b[39m  (3): room_shared, room_private, host_is_superhost\n",
      "\n",
      "\u001b[36mℹ\u001b[39m Use `spec()` to retrieve the full column specification for this data.\n",
      "\u001b[36mℹ\u001b[39m Specify the column types or set `show_col_types = FALSE` to quiet this message.\n"
     ]
    },
    {
     "name": "stdout",
     "output_type": "stream",
     "text": [
      "[1] \"https://zenodo.org/record/4446043/files/paris_weekdays.csv\"\n"
     ]
    },
    {
     "name": "stderr",
     "output_type": "stream",
     "text": [
      "\u001b[1m\u001b[22mNew names:\n",
      "\u001b[36m•\u001b[39m `` -> `...1`\n",
      "\u001b[1mRows: \u001b[22m\u001b[34m3130\u001b[39m \u001b[1mColumns: \u001b[22m\u001b[34m20\u001b[39m\n",
      "\u001b[36m──\u001b[39m \u001b[1mColumn specification\u001b[22m \u001b[36m────────────────────────────────────────────────────────\u001b[39m\n",
      "\u001b[1mDelimiter:\u001b[22m \",\"\n",
      "\u001b[31mchr\u001b[39m  (1): room_type\n",
      "\u001b[32mdbl\u001b[39m (16): ...1, realSum, person_capacity, multi, biz, cleanliness_rating, gu...\n",
      "\u001b[33mlgl\u001b[39m  (3): room_shared, room_private, host_is_superhost\n",
      "\n",
      "\u001b[36mℹ\u001b[39m Use `spec()` to retrieve the full column specification for this data.\n",
      "\u001b[36mℹ\u001b[39m Specify the column types or set `show_col_types = FALSE` to quiet this message.\n",
      "\u001b[1m\u001b[22mNew names:\n",
      "\u001b[36m•\u001b[39m `` -> `...1`\n",
      "\u001b[1mRows: \u001b[22m\u001b[34m3558\u001b[39m \u001b[1mColumns: \u001b[22m\u001b[34m20\u001b[39m\n",
      "\u001b[36m──\u001b[39m \u001b[1mColumn specification\u001b[22m \u001b[36m────────────────────────────────────────────────────────\u001b[39m\n",
      "\u001b[1mDelimiter:\u001b[22m \",\"\n",
      "\u001b[31mchr\u001b[39m  (1): room_type\n",
      "\u001b[32mdbl\u001b[39m (16): ...1, realSum, person_capacity, multi, biz, cleanliness_rating, gu...\n",
      "\u001b[33mlgl\u001b[39m  (3): room_shared, room_private, host_is_superhost\n",
      "\n",
      "\u001b[36mℹ\u001b[39m Use `spec()` to retrieve the full column specification for this data.\n",
      "\u001b[36mℹ\u001b[39m Specify the column types or set `show_col_types = FALSE` to quiet this message.\n"
     ]
    },
    {
     "name": "stdout",
     "output_type": "stream",
     "text": [
      "[1] \"https://zenodo.org/record/4446043/files/rome_weekdays.csv\"\n"
     ]
    },
    {
     "name": "stderr",
     "output_type": "stream",
     "text": [
      "\u001b[1m\u001b[22mNew names:\n",
      "\u001b[36m•\u001b[39m `` -> `...1`\n",
      "\u001b[1mRows: \u001b[22m\u001b[34m4492\u001b[39m \u001b[1mColumns: \u001b[22m\u001b[34m20\u001b[39m\n",
      "\u001b[36m──\u001b[39m \u001b[1mColumn specification\u001b[22m \u001b[36m────────────────────────────────────────────────────────\u001b[39m\n",
      "\u001b[1mDelimiter:\u001b[22m \",\"\n",
      "\u001b[31mchr\u001b[39m  (1): room_type\n",
      "\u001b[32mdbl\u001b[39m (16): ...1, realSum, person_capacity, multi, biz, cleanliness_rating, gu...\n",
      "\u001b[33mlgl\u001b[39m  (3): room_shared, room_private, host_is_superhost\n",
      "\n",
      "\u001b[36mℹ\u001b[39m Use `spec()` to retrieve the full column specification for this data.\n",
      "\u001b[36mℹ\u001b[39m Specify the column types or set `show_col_types = FALSE` to quiet this message.\n",
      "\u001b[1m\u001b[22mNew names:\n",
      "\u001b[36m•\u001b[39m `` -> `...1`\n",
      "\u001b[1mRows: \u001b[22m\u001b[34m4535\u001b[39m \u001b[1mColumns: \u001b[22m\u001b[34m20\u001b[39m\n",
      "\u001b[36m──\u001b[39m \u001b[1mColumn specification\u001b[22m \u001b[36m────────────────────────────────────────────────────────\u001b[39m\n",
      "\u001b[1mDelimiter:\u001b[22m \",\"\n",
      "\u001b[31mchr\u001b[39m  (1): room_type\n",
      "\u001b[32mdbl\u001b[39m (16): ...1, realSum, person_capacity, multi, biz, cleanliness_rating, gu...\n",
      "\u001b[33mlgl\u001b[39m  (3): room_shared, room_private, host_is_superhost\n",
      "\n",
      "\u001b[36mℹ\u001b[39m Use `spec()` to retrieve the full column specification for this data.\n",
      "\u001b[36mℹ\u001b[39m Specify the column types or set `show_col_types = FALSE` to quiet this message.\n"
     ]
    },
    {
     "name": "stdout",
     "output_type": "stream",
     "text": [
      "[1] \"https://zenodo.org/record/4446043/files/vienna_weekdays.csv\"\n"
     ]
    },
    {
     "name": "stderr",
     "output_type": "stream",
     "text": [
      "\u001b[1m\u001b[22mNew names:\n",
      "\u001b[36m•\u001b[39m `` -> `...1`\n",
      "\u001b[1mRows: \u001b[22m\u001b[34m1738\u001b[39m \u001b[1mColumns: \u001b[22m\u001b[34m20\u001b[39m\n",
      "\u001b[36m──\u001b[39m \u001b[1mColumn specification\u001b[22m \u001b[36m────────────────────────────────────────────────────────\u001b[39m\n",
      "\u001b[1mDelimiter:\u001b[22m \",\"\n",
      "\u001b[31mchr\u001b[39m  (1): room_type\n",
      "\u001b[32mdbl\u001b[39m (16): ...1, realSum, person_capacity, multi, biz, cleanliness_rating, gu...\n",
      "\u001b[33mlgl\u001b[39m  (3): room_shared, room_private, host_is_superhost\n",
      "\n",
      "\u001b[36mℹ\u001b[39m Use `spec()` to retrieve the full column specification for this data.\n",
      "\u001b[36mℹ\u001b[39m Specify the column types or set `show_col_types = FALSE` to quiet this message.\n",
      "\u001b[1m\u001b[22mNew names:\n",
      "\u001b[36m•\u001b[39m `` -> `...1`\n",
      "\u001b[1mRows: \u001b[22m\u001b[34m1799\u001b[39m \u001b[1mColumns: \u001b[22m\u001b[34m20\u001b[39m\n",
      "\u001b[36m──\u001b[39m \u001b[1mColumn specification\u001b[22m \u001b[36m────────────────────────────────────────────────────────\u001b[39m\n",
      "\u001b[1mDelimiter:\u001b[22m \",\"\n",
      "\u001b[31mchr\u001b[39m  (1): room_type\n",
      "\u001b[32mdbl\u001b[39m (16): ...1, realSum, person_capacity, multi, biz, cleanliness_rating, gu...\n",
      "\u001b[33mlgl\u001b[39m  (3): room_shared, room_private, host_is_superhost\n",
      "\n",
      "\u001b[36mℹ\u001b[39m Use `spec()` to retrieve the full column specification for this data.\n",
      "\u001b[36mℹ\u001b[39m Specify the column types or set `show_col_types = FALSE` to quiet this message.\n"
     ]
    },
    {
     "data": {
      "text/html": [
       "<style>\n",
       ".list-inline {list-style: none; margin:0; padding: 0}\n",
       ".list-inline>li {display: inline-block}\n",
       ".list-inline>li:not(:last-child)::after {content: \"\\00b7\"; padding: 0 .5ex}\n",
       "</style>\n",
       "<ol class=list-inline><li>51707</li><li>22</li></ol>\n"
      ],
      "text/latex": [
       "\\begin{enumerate*}\n",
       "\\item 51707\n",
       "\\item 22\n",
       "\\end{enumerate*}\n"
      ],
      "text/markdown": [
       "1. 51707\n",
       "2. 22\n",
       "\n",
       "\n"
      ],
      "text/plain": [
       "[1] 51707    22"
      ]
     },
     "metadata": {},
     "output_type": "display_data"
    }
   ],
   "source": [
    "library(tidyverse)\n",
    "library(tidymodels)\n",
    "# amsterdam, athens, barcelona, berlin, budapest, lisbon, london, paris, rome, vienna\n",
    "# weekdays, weekends\n",
    "url_first <- \"https://zenodo.org/record/4446043/files/\"\n",
    "# FSR they store it in 10 different CSVs - hope my IP doesn't get blacklisted\n",
    "cities <- c(\"amsterdam\", \"athens\", \"barcelona\", \"berlin\", \"budapest\", \"lisbon\", \"london\", \"paris\", \"rome\", \"vienna\");\n",
    "total_dataset <- tibble()\n",
    "\n",
    "for (i in 1:10) {\n",
    "    # me when I can't \"str1\" + \"str2\"\n",
    "    sub_data <- read_csv(paste(url_first, cities[i], \"_weekdays.csv\", sep =\"\")) |>\n",
    "        mutate(city = cities[i]) |>\n",
    "        mutate(day = \"weekday\")\n",
    "    Sys.sleep(0.5) # don't overload their server XDDDD\n",
    "    sub_data_end <- read_csv(paste(url_first, cities[i], \"_weekends.csv\", sep =\"\")) |>\n",
    "        mutate(city = cities[i]) |>\n",
    "        mutate(day = \"weekend\")\n",
    "    total_dataset <- bind_rows(total_dataset, sub_data, sub_data_end)\n",
    "    Sys.sleep(0.5) # don't overload their server XDDDD\n",
    "}"
   ]
  },
  {
   "cell_type": "code",
   "execution_count": 23,
   "id": "da826c4d-c468-4065-9e0b-f2141e32ff3b",
   "metadata": {},
   "outputs": [
    {
     "data": {
      "text/html": [
       "<style>\n",
       ".list-inline {list-style: none; margin:0; padding: 0}\n",
       ".list-inline>li {display: inline-block}\n",
       ".list-inline>li:not(:last-child)::after {content: \"\\00b7\"; padding: 0 .5ex}\n",
       "</style>\n",
       "<ol class=list-inline><li>'Private room'</li><li>'Entire home/apt'</li><li>'Shared room'</li></ol>\n"
      ],
      "text/latex": [
       "\\begin{enumerate*}\n",
       "\\item 'Private room'\n",
       "\\item 'Entire home/apt'\n",
       "\\item 'Shared room'\n",
       "\\end{enumerate*}\n"
      ],
      "text/markdown": [
       "1. 'Private room'\n",
       "2. 'Entire home/apt'\n",
       "3. 'Shared room'\n",
       "\n",
       "\n"
      ],
      "text/plain": [
       "[1] \"Private room\"    \"Entire home/apt\" \"Shared room\"    "
      ]
     },
     "metadata": {},
     "output_type": "display_data"
    },
    {
     "name": "stdout",
     "output_type": "stream",
     "text": [
      "Rows: 51,707\n",
      "Columns: 17\n",
      "$ cost                       \u001b[3m\u001b[90m<dbl>\u001b[39m\u001b[23m 194.0337, 344.2458, 264.1014, 433.5294, 485…\n",
      "$ room_type                  \u001b[3m\u001b[90m<fct>\u001b[39m\u001b[23m Private room, Private room, Private room, P…\n",
      "$ person_capacity            \u001b[3m\u001b[90m<dbl>\u001b[39m\u001b[23m 2, 4, 2, 4, 2, 3, 2, 4, 4, 2, 2, 2, 4, 2, 2…\n",
      "$ host_is_superhost          \u001b[3m\u001b[90m<lgl>\u001b[39m\u001b[23m FALSE, FALSE, FALSE, FALSE, TRUE, FALSE, FA…\n",
      "$ multi                      \u001b[3m\u001b[90m<dbl>\u001b[39m\u001b[23m 1, 0, 0, 0, 0, 0, 0, 0, 0, 1, 0, 1, 0, 0, 1…\n",
      "$ biz                        \u001b[3m\u001b[90m<dbl>\u001b[39m\u001b[23m 0, 0, 1, 1, 0, 0, 0, 0, 0, 0, 0, 0, 0, 0, 0…\n",
      "$ cleanliness_rating         \u001b[3m\u001b[90m<dbl>\u001b[39m\u001b[23m 10, 8, 9, 9, 10, 8, 10, 10, 9, 10, 10, 10, …\n",
      "$ guest_satisfaction_overall \u001b[3m\u001b[90m<dbl>\u001b[39m\u001b[23m 93, 85, 87, 90, 98, 100, 94, 100, 96, 88, 9…\n",
      "$ bedrooms                   \u001b[3m\u001b[90m<dbl>\u001b[39m\u001b[23m 1, 1, 1, 2, 1, 2, 1, 3, 2, 1, 1, 1, 1, 1, 1…\n",
      "$ dist_from_city_centre      \u001b[3m\u001b[90m<dbl>\u001b[39m\u001b[23m 5.0229638, 0.4883893, 5.7483119, 0.3848620,…\n",
      "$ metro_dist                 \u001b[3m\u001b[90m<dbl>\u001b[39m\u001b[23m 2.5393800, 0.2394039, 3.6516213, 0.4398761,…\n",
      "$ attraction_index           \u001b[3m\u001b[90m<dbl>\u001b[39m\u001b[23m 4.166708, 33.421209, 3.985908, 26.119108, 2…\n",
      "$ restaurant_index           \u001b[3m\u001b[90m<dbl>\u001b[39m\u001b[23m 6.846473, 58.342928, 6.646700, 60.973565, 5…\n",
      "$ lng                        \u001b[3m\u001b[90m<dbl>\u001b[39m\u001b[23m 4.90569, 4.90005, 4.97512, 4.89417, 4.90051…\n",
      "$ lat                        \u001b[3m\u001b[90m<dbl>\u001b[39m\u001b[23m 52.41772, 52.37432, 52.36103, 52.37663, 52.…\n",
      "$ city                       \u001b[3m\u001b[90m<fct>\u001b[39m\u001b[23m amsterdam, amsterdam, amsterdam, amsterdam,…\n",
      "$ day                        \u001b[3m\u001b[90m<fct>\u001b[39m\u001b[23m weekday, weekday, weekday, weekday, weekday…\n"
     ]
    }
   ],
   "source": [
    "# clean data\n",
    "airbnb_clean <- total_dataset |>\n",
    "    select(-1) |> #literally just some number\n",
    "# according to https://zenodo.org/record/4446043#.Y9Y9ENJBwUE these columns are dummies:\n",
    "    select(-room_private, -room_shared) |>\n",
    "# apparently these are already scaled to [0,100] - drop the duplicate\n",
    "    select(-attr_index, -rest_index) |>\n",
    "    mutate(room_type = as_factor(room_type)) |>\n",
    "    mutate(city = as_factor(city), day = as_factor(day)) |>\n",
    "    rename(dist_from_city_centre = dist,\n",
    "           cost = realSum,\n",
    "           attraction_index = attr_index_norm,\n",
    "           restaurant_index = rest_index_norm)\n",
    "\n",
    "airbnb_clean |>\n",
    "    select(room_type) |>\n",
    "    pull() |>\n",
    "    levels()\n",
    "\n",
    "glimpse(airbnb_clean)"
   ]
  },
  {
   "cell_type": "code",
   "execution_count": 14,
   "id": "07597685-045f-49d9-9b0d-fd04b62c6b52",
   "metadata": {},
   "outputs": [],
   "source": [
    "airbnb_split <- initial_split(airbnb_clean, prop = 0.75, strata = room_type)\n",
    "airbnb_train <- training(airbnb_split)\n",
    "airbnb_test <- testing(airbnb_split)"
   ]
  },
  {
   "cell_type": "code",
   "execution_count": 16,
   "id": "e48a28eb-d1b6-4d19-b09e-a0281f17951e",
   "metadata": {},
   "outputs": [
    {
     "data": {
      "text/html": [
       "<table class=\"dataframe\">\n",
       "<caption>A tibble: 1 × 14</caption>\n",
       "<thead>\n",
       "\t<tr><th scope=col>cost</th><th scope=col>person_capacity</th><th scope=col>host_is_superhost</th><th scope=col>multi</th><th scope=col>biz</th><th scope=col>cleanliness_rating</th><th scope=col>guest_satisfaction_overall</th><th scope=col>bedrooms</th><th scope=col>dist_from_city_centre</th><th scope=col>metro_dist</th><th scope=col>attraction_index</th><th scope=col>restaurant_index</th><th scope=col>lng</th><th scope=col>lat</th></tr>\n",
       "\t<tr><th scope=col>&lt;dbl&gt;</th><th scope=col>&lt;dbl&gt;</th><th scope=col>&lt;dbl&gt;</th><th scope=col>&lt;dbl&gt;</th><th scope=col>&lt;dbl&gt;</th><th scope=col>&lt;dbl&gt;</th><th scope=col>&lt;dbl&gt;</th><th scope=col>&lt;dbl&gt;</th><th scope=col>&lt;dbl&gt;</th><th scope=col>&lt;dbl&gt;</th><th scope=col>&lt;dbl&gt;</th><th scope=col>&lt;dbl&gt;</th><th scope=col>&lt;dbl&gt;</th><th scope=col>&lt;dbl&gt;</th></tr>\n",
       "</thead>\n",
       "<tbody>\n",
       "\t<tr><td>279.7899</td><td>3.167539</td><td>0.2554991</td><td>0.2903376</td><td>0.3521751</td><td>9.386782</td><td>92.59406</td><td>1.160138</td><td>3.178117</td><td>0.6768214</td><td>13.45239</td><td>22.85401</td><td>7.449281</td><td>45.68326</td></tr>\n",
       "</tbody>\n",
       "</table>\n"
      ],
      "text/latex": [
       "A tibble: 1 × 14\n",
       "\\begin{tabular}{llllllllllllll}\n",
       " cost & person\\_capacity & host\\_is\\_superhost & multi & biz & cleanliness\\_rating & guest\\_satisfaction\\_overall & bedrooms & dist\\_from\\_city\\_centre & metro\\_dist & attraction\\_index & restaurant\\_index & lng & lat\\\\\n",
       " <dbl> & <dbl> & <dbl> & <dbl> & <dbl> & <dbl> & <dbl> & <dbl> & <dbl> & <dbl> & <dbl> & <dbl> & <dbl> & <dbl>\\\\\n",
       "\\hline\n",
       "\t 279.7899 & 3.167539 & 0.2554991 & 0.2903376 & 0.3521751 & 9.386782 & 92.59406 & 1.160138 & 3.178117 & 0.6768214 & 13.45239 & 22.85401 & 7.449281 & 45.68326\\\\\n",
       "\\end{tabular}\n"
      ],
      "text/markdown": [
       "\n",
       "A tibble: 1 × 14\n",
       "\n",
       "| cost &lt;dbl&gt; | person_capacity &lt;dbl&gt; | host_is_superhost &lt;dbl&gt; | multi &lt;dbl&gt; | biz &lt;dbl&gt; | cleanliness_rating &lt;dbl&gt; | guest_satisfaction_overall &lt;dbl&gt; | bedrooms &lt;dbl&gt; | dist_from_city_centre &lt;dbl&gt; | metro_dist &lt;dbl&gt; | attraction_index &lt;dbl&gt; | restaurant_index &lt;dbl&gt; | lng &lt;dbl&gt; | lat &lt;dbl&gt; |\n",
       "|---|---|---|---|---|---|---|---|---|---|---|---|---|---|\n",
       "| 279.7899 | 3.167539 | 0.2554991 | 0.2903376 | 0.3521751 | 9.386782 | 92.59406 | 1.160138 | 3.178117 | 0.6768214 | 13.45239 | 22.85401 | 7.449281 | 45.68326 |\n",
       "\n"
      ],
      "text/plain": [
       "  cost     person_capacity host_is_superhost multi     biz      \n",
       "1 279.7899 3.167539        0.2554991         0.2903376 0.3521751\n",
       "  cleanliness_rating guest_satisfaction_overall bedrooms dist_from_city_centre\n",
       "1 9.386782           92.59406                   1.160138 3.178117             \n",
       "  metro_dist attraction_index restaurant_index lng      lat     \n",
       "1 0.6768214  13.45239         22.85401         7.449281 45.68326"
      ]
     },
     "metadata": {},
     "output_type": "display_data"
    },
    {
     "data": {
      "text/html": [
       "<table class=\"dataframe\">\n",
       "<caption>A tibble: 3 × 2</caption>\n",
       "<thead>\n",
       "\t<tr><th scope=col>room_type</th><th scope=col>counts</th></tr>\n",
       "\t<tr><th scope=col>&lt;fct&gt;</th><th scope=col>&lt;int&gt;</th></tr>\n",
       "</thead>\n",
       "<tbody>\n",
       "\t<tr><td>Private room   </td><td>14008</td></tr>\n",
       "\t<tr><td>Entire home/apt</td><td>24485</td></tr>\n",
       "\t<tr><td>Shared room    </td><td>  286</td></tr>\n",
       "</tbody>\n",
       "</table>\n"
      ],
      "text/latex": [
       "A tibble: 3 × 2\n",
       "\\begin{tabular}{ll}\n",
       " room\\_type & counts\\\\\n",
       " <fct> & <int>\\\\\n",
       "\\hline\n",
       "\t Private room    & 14008\\\\\n",
       "\t Entire home/apt & 24485\\\\\n",
       "\t Shared room     &   286\\\\\n",
       "\\end{tabular}\n"
      ],
      "text/markdown": [
       "\n",
       "A tibble: 3 × 2\n",
       "\n",
       "| room_type &lt;fct&gt; | counts &lt;int&gt; |\n",
       "|---|---|\n",
       "| Private room    | 14008 |\n",
       "| Entire home/apt | 24485 |\n",
       "| Shared room     |   286 |\n",
       "\n"
      ],
      "text/plain": [
       "  room_type       counts\n",
       "1 Private room    14008 \n",
       "2 Entire home/apt 24485 \n",
       "3 Shared room       286 "
      ]
     },
     "metadata": {},
     "output_type": "display_data"
    }
   ],
   "source": [
    "airbnb_train |>\n",
    "    select(-room_type, -city, -day) |>\n",
    "    map_df(mean)\n",
    "\n",
    "airbnb_train |>\n",
    "    select(room_type) |>\n",
    "    group_by(room_type) |>\n",
    "    summarize(counts = length(room_type))"
   ]
  },
  {
   "cell_type": "markdown",
   "id": "657aadb4-f339-4a45-9fe7-226b5798616a",
   "metadata": {},
   "source": [
    "Clearly, there are no NA/missing values in the numerical columns. We can also see that there is significantly more private rooms and entire home/apartment AirBnB listings."
   ]
  },
  {
   "cell_type": "code",
   "execution_count": 21,
   "id": "60912bc3-d0f5-49e7-ae71-a993bf8ab061",
   "metadata": {},
   "outputs": [
    {
     "name": "stderr",
     "output_type": "stream",
     "text": [
      "`stat_bin()` using `bins = 30`. Pick better value with `binwidth`.\n",
      "\n",
      "Warning message:\n",
      "“Removed 191 rows containing non-finite values (stat_bin).”\n",
      "Warning message:\n",
      "“Removed 2 rows containing missing values (geom_bar).”\n"
     ]
    },
    {
     "data": {
      "image/png": "[encoded data removed]",
      "text/plain": [
       "plot without title"
      ]
     },
     "metadata": {
      "image/png": {
       "height": 420,
       "width": 420
      }
     },
     "output_type": "display_data"
    }
   ],
   "source": [
    "ggplot(airbnb_train, aes(x=cost)) +\n",
    "    geom_histogram(fill=\"orange\") +\n",
    "    xlim(0,1500) +\n",
    "    labs(x=\"Cost (EUR$)\", y=\"Counts\", title=\"Distribution of AirBnB Room Costs\") +\n",
    "    theme(text = element_text(size = 20))"
   ]
  },
  {
   "cell_type": "markdown",
   "id": "3425084a-fdda-4a37-89a4-7cc596dc54bd",
   "metadata": {},
   "source": [
    "The distribution of the costs is skewed with a heavy right tail."
   ]
  },
  {
   "cell_type": "markdown",
   "id": "7c2d3aef-ed7d-44fc-b5e4-2e62a9093e08",
   "metadata": {},
   "source": [
    "## Methods\n",
    "(Explain how you will conduct either your data analysis and which variables/columns you will use)\n",
    "- Note - you do not need to use all variables/columns that exist in the raw data set. In fact, that's often not a good idea. For each variable think: is this a useful variable for prediction?\n",
    "\n",
    "(Describe at least one way that you will visualize the results)\n",
    "\n",
    "## Expected outcomes and significance:\n",
    "### What do you expect to find?\n",
    "TBD\n",
    "### What impact could such findings have?\n",
    "TBD\n",
    "### What future questions could this lead to?\n",
    "TBD"
   ]
  }
 ],
 "metadata": {
  "kernelspec": {
   "display_name": "R",
   "language": "R",
   "name": "ir"
  },
  "language_info": {
   "codemirror_mode": "r",
   "file_extension": ".r",
   "mimetype": "text/x-r-source",
   "name": "R",
   "pygments_lexer": "r",
   "version": "4.1.3"
  }
 },
 "nbformat": 4,
 "nbformat_minor": 5
}
