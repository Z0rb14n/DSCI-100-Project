{
 "cells": [
  {
   "cell_type": "markdown",
   "id": "8cad2991-087a-4afc-b9b2-16bf6c6ca168",
   "metadata": {},
   "source": [
    "# (Project Proposal Title)\n",
    "\n",
    "## Introduction\n",
    "\n",
    "(Provide some relevant background information on the topic so that someone unfamiliar with it will be prepared to understand the rest of your proposal)\n",
    "\n",
    "(Clearly state the question you will try to answer with your project)\n",
    "\n",
    "(Identify and describe the dataset that will be used to answer the question)"
   ]
  },
  {
   "cell_type": "markdown",
   "id": "20584af9-103b-42b6-9e37-67278c400344",
   "metadata": {},
   "source": [
    "## Preliminary Exploratory Data Analysis"
   ]
  },
  {
   "cell_type": "code",
   "execution_count": 8,
   "id": "74d703ea-2790-46b9-9a2c-43bd74146cf4",
   "metadata": {},
   "outputs": [
    {
     "name": "stderr",
     "output_type": "stream",
     "text": [
      "── \u001b[1mAttaching packages\u001b[22m ────────────────────────────────────── tidymodels 1.0.0 ──\n",
      "\n",
      "\u001b[32m✔\u001b[39m \u001b[34mbroom       \u001b[39m 1.0.0     \u001b[32m✔\u001b[39m \u001b[34mrsample     \u001b[39m 1.0.0\n",
      "\u001b[32m✔\u001b[39m \u001b[34mdials       \u001b[39m 1.0.0     \u001b[32m✔\u001b[39m \u001b[34mtune        \u001b[39m 1.0.0\n",
      "\u001b[32m✔\u001b[39m \u001b[34minfer       \u001b[39m 1.0.2     \u001b[32m✔\u001b[39m \u001b[34mworkflows   \u001b[39m 1.0.0\n",
      "\u001b[32m✔\u001b[39m \u001b[34mmodeldata   \u001b[39m 1.0.0     \u001b[32m✔\u001b[39m \u001b[34mworkflowsets\u001b[39m 1.0.0\n",
      "\u001b[32m✔\u001b[39m \u001b[34mparsnip     \u001b[39m 1.0.0     \u001b[32m✔\u001b[39m \u001b[34myardstick   \u001b[39m 1.0.0\n",
      "\u001b[32m✔\u001b[39m \u001b[34mrecipes     \u001b[39m 1.0.1     \n",
      "\n",
      "── \u001b[1mConflicts\u001b[22m ───────────────────────────────────────── tidymodels_conflicts() ──\n",
      "\u001b[31m✖\u001b[39m \u001b[34mscales\u001b[39m::\u001b[32mdiscard()\u001b[39m masks \u001b[34mpurrr\u001b[39m::discard()\n",
      "\u001b[31m✖\u001b[39m \u001b[34mdplyr\u001b[39m::\u001b[32mfilter()\u001b[39m   masks \u001b[34mstats\u001b[39m::filter()\n",
      "\u001b[31m✖\u001b[39m \u001b[34mrecipes\u001b[39m::\u001b[32mfixed()\u001b[39m  masks \u001b[34mstringr\u001b[39m::fixed()\n",
      "\u001b[31m✖\u001b[39m \u001b[34mdplyr\u001b[39m::\u001b[32mlag()\u001b[39m      masks \u001b[34mstats\u001b[39m::lag()\n",
      "\u001b[31m✖\u001b[39m \u001b[34myardstick\u001b[39m::\u001b[32mspec()\u001b[39m masks \u001b[34mreadr\u001b[39m::spec()\n",
      "\u001b[31m✖\u001b[39m \u001b[34mrecipes\u001b[39m::\u001b[32mstep()\u001b[39m   masks \u001b[34mstats\u001b[39m::step()\n",
      "\u001b[34m•\u001b[39m Use suppressPackageStartupMessages() to eliminate package startup messages\n",
      "\n",
      "\u001b[1m\u001b[22mNew names:\n",
      "\u001b[36m•\u001b[39m `` -> `...1`\n",
      "\u001b[1mRows: \u001b[22m\u001b[34m1103\u001b[39m \u001b[1mColumns: \u001b[22m\u001b[34m20\u001b[39m\n",
      "\u001b[36m──\u001b[39m \u001b[1mColumn specification\u001b[22m \u001b[36m────────────────────────────────────────────────────────\u001b[39m\n",
      "\u001b[1mDelimiter:\u001b[22m \",\"\n",
      "\u001b[31mchr\u001b[39m  (1): room_type\n",
      "\u001b[32mdbl\u001b[39m (16): ...1, realSum, person_capacity, multi, biz, cleanliness_rating, gu...\n",
      "\u001b[33mlgl\u001b[39m  (3): room_shared, room_private, host_is_superhost\n",
      "\n",
      "\u001b[36mℹ\u001b[39m Use `spec()` to retrieve the full column specification for this data.\n",
      "\u001b[36mℹ\u001b[39m Specify the column types or set `show_col_types = FALSE` to quiet this message.\n"
     ]
    }
   ],
   "source": [
    "library(tidyverse)\n",
    "library(tidymodels)\n",
    "# amsterdam, athens, barcelona, berlin, budapest, lisbon, london, paris, rome, vienna\n",
    "# weekdays, weekends\n",
    "# just doing a practice run\n",
    "amsterdam_weekdays <- read_csv(\"https://zenodo.org/record/4446043/files/amsterdam_weekdays.csv\")"
   ]
  },
  {
   "cell_type": "code",
   "execution_count": 9,
   "id": "da826c4d-c468-4065-9e0b-f2141e32ff3b",
   "metadata": {},
   "outputs": [
    {
     "data": {
      "text/html": [
       "<style>\n",
       ".list-inline {list-style: none; margin:0; padding: 0}\n",
       ".list-inline>li {display: inline-block}\n",
       ".list-inline>li:not(:last-child)::after {content: \"\\00b7\"; padding: 0 .5ex}\n",
       "</style>\n",
       "<ol class=list-inline><li>'Private room'</li><li>'Entire home/apt'</li><li>'Shared room'</li></ol>\n"
      ],
      "text/latex": [
       "\\begin{enumerate*}\n",
       "\\item 'Private room'\n",
       "\\item 'Entire home/apt'\n",
       "\\item 'Shared room'\n",
       "\\end{enumerate*}\n"
      ],
      "text/markdown": [
       "1. 'Private room'\n",
       "2. 'Entire home/apt'\n",
       "3. 'Shared room'\n",
       "\n",
       "\n"
      ],
      "text/plain": [
       "[1] \"Private room\"    \"Entire home/apt\" \"Shared room\"    "
      ]
     },
     "metadata": {},
     "output_type": "display_data"
    },
    {
     "name": "stdout",
     "output_type": "stream",
     "text": [
      "Rows: 1,103\n",
      "Columns: 15\n",
      "$ cost                       \u001b[3m\u001b[90m<dbl>\u001b[39m\u001b[23m 194.0337, 344.2458, 264.1014, 433.5294, 485…\n",
      "$ room_type                  \u001b[3m\u001b[90m<fct>\u001b[39m\u001b[23m Private room, Private room, Private room, P…\n",
      "$ person_capacity            \u001b[3m\u001b[90m<dbl>\u001b[39m\u001b[23m 2, 4, 2, 4, 2, 3, 2, 4, 4, 2, 2, 2, 4, 2, 2…\n",
      "$ host_is_superhost          \u001b[3m\u001b[90m<lgl>\u001b[39m\u001b[23m FALSE, FALSE, FALSE, FALSE, TRUE, FALSE, FA…\n",
      "$ multi                      \u001b[3m\u001b[90m<dbl>\u001b[39m\u001b[23m 1, 0, 0, 0, 0, 0, 0, 0, 0, 1, 0, 1, 0, 0, 1…\n",
      "$ biz                        \u001b[3m\u001b[90m<dbl>\u001b[39m\u001b[23m 0, 0, 1, 1, 0, 0, 0, 0, 0, 0, 0, 0, 0, 0, 0…\n",
      "$ cleanliness_rating         \u001b[3m\u001b[90m<dbl>\u001b[39m\u001b[23m 10, 8, 9, 9, 10, 8, 10, 10, 9, 10, 10, 10, …\n",
      "$ guest_satisfaction_overall \u001b[3m\u001b[90m<dbl>\u001b[39m\u001b[23m 93, 85, 87, 90, 98, 100, 94, 100, 96, 88, 9…\n",
      "$ bedrooms                   \u001b[3m\u001b[90m<dbl>\u001b[39m\u001b[23m 1, 1, 1, 2, 1, 2, 1, 3, 2, 1, 1, 1, 1, 1, 1…\n",
      "$ dist_from_city_centre      \u001b[3m\u001b[90m<dbl>\u001b[39m\u001b[23m 5.0229638, 0.4883893, 5.7483119, 0.3848620,…\n",
      "$ metro_dist                 \u001b[3m\u001b[90m<dbl>\u001b[39m\u001b[23m 2.5393800, 0.2394039, 3.6516213, 0.4398761,…\n",
      "$ attraction_index           \u001b[3m\u001b[90m<dbl>\u001b[39m\u001b[23m 4.166708, 33.421209, 3.985908, 26.119108, 2…\n",
      "$ restaurant_index           \u001b[3m\u001b[90m<dbl>\u001b[39m\u001b[23m 6.846473, 58.342928, 6.646700, 60.973565, 5…\n",
      "$ lng                        \u001b[3m\u001b[90m<dbl>\u001b[39m\u001b[23m 4.90569, 4.90005, 4.97512, 4.89417, 4.90051…\n",
      "$ lat                        \u001b[3m\u001b[90m<dbl>\u001b[39m\u001b[23m 52.41772, 52.37432, 52.36103, 52.37663, 52.…\n"
     ]
    }
   ],
   "source": [
    "# clean data\n",
    "amsterdam_weekdays_clean <- amsterdam_weekdays |>\n",
    "    select(-1) |>\n",
    "# according to https://zenodo.org/record/4446043#.Y9Y9ENJBwUE these columns are dummies:\n",
    "    select(-room_private, -room_shared) |>\n",
    "# apparently these are already scaled to [0,100] - drop the duplicate\n",
    "    select(-attr_index, -rest_index) |>\n",
    "    mutate(room_type = as_factor(room_type)) |>\n",
    "    rename(dist_from_city_centre = dist,\n",
    "           cost = realSum,\n",
    "           attraction_index = attr_index_norm,\n",
    "           restaurant_index = rest_index_norm)\n",
    "\n",
    "amsterdam_weekdays_clean |>\n",
    "    select(room_type) |>\n",
    "    pull() |>\n",
    "    levels()\n",
    "\n",
    "glimpse(amsterdam_weekdays_clean)"
   ]
  },
  {
   "cell_type": "code",
   "execution_count": 10,
   "id": "07597685-045f-49d9-9b0d-fd04b62c6b52",
   "metadata": {},
   "outputs": [],
   "source": [
    "amsterdam_weekdays_split <- initial_split(amsterdam_weekdays_clean, prop = 0.75, strata = room_type)\n",
    "amsterdam_weekdays_training <- training(amsterdam_weekdays_split)\n",
    "amsterdam_weekdays_testing <- testing(amsterdam_weekdays_split)"
   ]
  },
  {
   "cell_type": "code",
   "execution_count": 34,
   "id": "e48a28eb-d1b6-4d19-b09e-a0281f17951e",
   "metadata": {},
   "outputs": [
    {
     "data": {
      "text/html": [
       "<table class=\"dataframe\">\n",
       "<caption>A tibble: 1 × 14</caption>\n",
       "<thead>\n",
       "\t<tr><th scope=col>cost</th><th scope=col>person_capacity</th><th scope=col>host_is_superhost</th><th scope=col>multi</th><th scope=col>biz</th><th scope=col>cleanliness_rating</th><th scope=col>guest_satisfaction_overall</th><th scope=col>bedrooms</th><th scope=col>dist_from_city_centre</th><th scope=col>metro_dist</th><th scope=col>attraction_index</th><th scope=col>restaurant_index</th><th scope=col>lng</th><th scope=col>lat</th></tr>\n",
       "\t<tr><th scope=col>&lt;dbl&gt;</th><th scope=col>&lt;dbl&gt;</th><th scope=col>&lt;dbl&gt;</th><th scope=col>&lt;dbl&gt;</th><th scope=col>&lt;dbl&gt;</th><th scope=col>&lt;dbl&gt;</th><th scope=col>&lt;dbl&gt;</th><th scope=col>&lt;dbl&gt;</th><th scope=col>&lt;dbl&gt;</th><th scope=col>&lt;dbl&gt;</th><th scope=col>&lt;dbl&gt;</th><th scope=col>&lt;dbl&gt;</th><th scope=col>&lt;dbl&gt;</th><th scope=col>&lt;dbl&gt;</th></tr>\n",
       "</thead>\n",
       "<tbody>\n",
       "\t<tr><td>546.0314</td><td>2.798065</td><td>0.2853688</td><td>0.3095526</td><td>0.1124547</td><td>9.442563</td><td>94.34825</td><td>1.276904</td><td>2.805045</td><td>1.101954</td><td>14.6183</td><td>24.21874</td><td>4.890168</td><td>52.36492</td></tr>\n",
       "</tbody>\n",
       "</table>\n"
      ],
      "text/latex": [
       "A tibble: 1 × 14\n",
       "\\begin{tabular}{llllllllllllll}\n",
       " cost & person\\_capacity & host\\_is\\_superhost & multi & biz & cleanliness\\_rating & guest\\_satisfaction\\_overall & bedrooms & dist\\_from\\_city\\_centre & metro\\_dist & attraction\\_index & restaurant\\_index & lng & lat\\\\\n",
       " <dbl> & <dbl> & <dbl> & <dbl> & <dbl> & <dbl> & <dbl> & <dbl> & <dbl> & <dbl> & <dbl> & <dbl> & <dbl> & <dbl>\\\\\n",
       "\\hline\n",
       "\t 546.0314 & 2.798065 & 0.2853688 & 0.3095526 & 0.1124547 & 9.442563 & 94.34825 & 1.276904 & 2.805045 & 1.101954 & 14.6183 & 24.21874 & 4.890168 & 52.36492\\\\\n",
       "\\end{tabular}\n"
      ],
      "text/markdown": [
       "\n",
       "A tibble: 1 × 14\n",
       "\n",
       "| cost &lt;dbl&gt; | person_capacity &lt;dbl&gt; | host_is_superhost &lt;dbl&gt; | multi &lt;dbl&gt; | biz &lt;dbl&gt; | cleanliness_rating &lt;dbl&gt; | guest_satisfaction_overall &lt;dbl&gt; | bedrooms &lt;dbl&gt; | dist_from_city_centre &lt;dbl&gt; | metro_dist &lt;dbl&gt; | attraction_index &lt;dbl&gt; | restaurant_index &lt;dbl&gt; | lng &lt;dbl&gt; | lat &lt;dbl&gt; |\n",
       "|---|---|---|---|---|---|---|---|---|---|---|---|---|---|\n",
       "| 546.0314 | 2.798065 | 0.2853688 | 0.3095526 | 0.1124547 | 9.442563 | 94.34825 | 1.276904 | 2.805045 | 1.101954 | 14.6183 | 24.21874 | 4.890168 | 52.36492 |\n",
       "\n"
      ],
      "text/plain": [
       "  cost     person_capacity host_is_superhost multi     biz      \n",
       "1 546.0314 2.798065        0.2853688         0.3095526 0.1124547\n",
       "  cleanliness_rating guest_satisfaction_overall bedrooms dist_from_city_centre\n",
       "1 9.442563           94.34825                   1.276904 2.805045             \n",
       "  metro_dist attraction_index restaurant_index lng      lat     \n",
       "1 1.101954   14.6183          24.21874         4.890168 52.36492"
      ]
     },
     "metadata": {},
     "output_type": "display_data"
    },
    {
     "data": {
      "text/html": [
       "<table class=\"dataframe\">\n",
       "<caption>A tibble: 3 × 2</caption>\n",
       "<thead>\n",
       "\t<tr><th scope=col>room_type</th><th scope=col>counts</th></tr>\n",
       "\t<tr><th scope=col>&lt;fct&gt;</th><th scope=col>&lt;int&gt;</th></tr>\n",
       "</thead>\n",
       "<tbody>\n",
       "\t<tr><td>Private room   </td><td>419</td></tr>\n",
       "\t<tr><td>Entire home/apt</td><td>403</td></tr>\n",
       "\t<tr><td>Shared room    </td><td>  5</td></tr>\n",
       "</tbody>\n",
       "</table>\n"
      ],
      "text/latex": [
       "A tibble: 3 × 2\n",
       "\\begin{tabular}{ll}\n",
       " room\\_type & counts\\\\\n",
       " <fct> & <int>\\\\\n",
       "\\hline\n",
       "\t Private room    & 419\\\\\n",
       "\t Entire home/apt & 403\\\\\n",
       "\t Shared room     &   5\\\\\n",
       "\\end{tabular}\n"
      ],
      "text/markdown": [
       "\n",
       "A tibble: 3 × 2\n",
       "\n",
       "| room_type &lt;fct&gt; | counts &lt;int&gt; |\n",
       "|---|---|\n",
       "| Private room    | 419 |\n",
       "| Entire home/apt | 403 |\n",
       "| Shared room     |   5 |\n",
       "\n"
      ],
      "text/plain": [
       "  room_type       counts\n",
       "1 Private room    419   \n",
       "2 Entire home/apt 403   \n",
       "3 Shared room       5   "
      ]
     },
     "metadata": {},
     "output_type": "display_data"
    }
   ],
   "source": [
    "amsterdam_weekdays_training |>\n",
    "    select(-room_type) |>\n",
    "    map_df(mean)\n",
    "\n",
    "amsterdam_weekdays_training |>\n",
    "    select(room_type) |>\n",
    "    group_by(room_type) |>\n",
    "    summarize(counts = length(room_type))"
   ]
  },
  {
   "cell_type": "markdown",
   "id": "657aadb4-f339-4a45-9fe7-226b5798616a",
   "metadata": {},
   "source": [
    "Clearly, there are no NA/missing values in the numerical columns. We can also see that there is significantly more private rooms and entire home/apartment AirBnB listings."
   ]
  },
  {
   "cell_type": "code",
   "execution_count": 23,
   "id": "60912bc3-d0f5-49e7-ae71-a993bf8ab061",
   "metadata": {},
   "outputs": [
    {
     "name": "stderr",
     "output_type": "stream",
     "text": [
      "`stat_bin()` using `bins = 30`. Pick better value with `binwidth`.\n",
      "\n"
     ]
    },
    {
     "data": {
      "image/png": "[encoded data removed]",
      "text/plain": [
       "plot without title"
      ]
     },
     "metadata": {
      "image/png": {
       "height": 420,
       "width": 420
      }
     },
     "output_type": "display_data"
    }
   ],
   "source": [
    "ggplot(amsterdam_weekdays_training, aes(x=cost)) +\n",
    "    geom_histogram(fill=\"orange\") +\n",
    "    labs(x=\"Cost (EUR$)\", y=\"Counts\", title=\"Distribution of AirBnB Room Costs\") +\n",
    "    theme(text = element_text(size = 20))\n",
    "    "
   ]
  },
  {
   "cell_type": "markdown",
   "id": "3425084a-fdda-4a37-89a4-7cc596dc54bd",
   "metadata": {},
   "source": [
    "The distribution of the costs is skewed with a heavy right tail."
   ]
  },
  {
   "cell_type": "markdown",
   "id": "7c2d3aef-ed7d-44fc-b5e4-2e62a9093e08",
   "metadata": {},
   "source": [
    "## Methods\n",
    "(Explain how you will conduct either your data analysis and which variables/columns you will use)\n",
    "- Note - you do not need to use all variables/columns that exist in the raw data set. In fact, that's often not a good idea. For each variable think: is this a useful variable for prediction?\n",
    "\n",
    "(Describe at least one way that you will visualize the results)\n",
    "\n",
    "## Expected outcomes and significance:\n",
    "### What do you expect to find?\n",
    "TBD\n",
    "### What impact could such findings have?\n",
    "TBD\n",
    "### What future questions could this lead to?\n",
    "TBD"
   ]
  }
 ],
 "metadata": {
  "kernelspec": {
   "display_name": "R",
   "language": "R",
   "name": "ir"
  },
  "language_info": {
   "codemirror_mode": "r",
   "file_extension": ".r",
   "mimetype": "text/x-r-source",
   "name": "R",
   "pygments_lexer": "r",
   "version": "4.1.3"
  }
 },
 "nbformat": 4,
 "nbformat_minor": 5
}
