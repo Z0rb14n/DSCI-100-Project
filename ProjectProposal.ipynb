{
 "cells": [
  {
   "cell_type": "markdown",
   "id": "8cad2991-087a-4afc-b9b2-16bf6c6ca168",
   "metadata": {},
   "source": [
    "# (Project Proposal Title)\n",
    "\n",
    "## Introduction\n",
    "\n",
    "(Provide some relevant background information on the topic so that someone unfamiliar with it will be prepared to understand the rest of your proposal)\n",
    "\n",
    "(Clearly state the question you will try to answer with your project)\n",
    "\n",
    "(Identify and describe the dataset that will be used to answer the question)"
   ]
  },
  {
   "cell_type": "markdown",
   "id": "20584af9-103b-42b6-9e37-67278c400344",
   "metadata": {},
   "source": [
    "## Preliminary Exploratory Data Analysis"
   ]
  },
  {
   "cell_type": "code",
   "execution_count": 4,
   "id": "74d703ea-2790-46b9-9a2c-43bd74146cf4",
   "metadata": {},
   "outputs": [
    {
     "ename": "ERROR",
     "evalue": "Error in open.connection(structure(5L, class = c(\"curl\", \"connection\"), conn_id = <pointer: 0x24b>), : SSL peer handshake failed, the server most likely requires a client certificate to connect\n",
     "output_type": "error",
     "traceback": [
      "Error in open.connection(structure(5L, class = c(\"curl\", \"connection\"), conn_id = <pointer: 0x24b>), : SSL peer handshake failed, the server most likely requires a client certificate to connect\nTraceback:\n",
      "1. read_csv(\"https://zenodo.org/record/4446043/files/amsterdam_weekdays.csv\")",
      "2. vroom::vroom(file, delim = \",\", col_names = col_names, col_types = col_types, \n .     col_select = {\n .         {\n .             col_select\n .         }\n .     }, id = id, .name_repair = name_repair, skip = skip, n_max = n_max, \n .     na = na, quote = quote, comment = comment, skip_empty_rows = skip_empty_rows, \n .     trim_ws = trim_ws, escape_double = TRUE, escape_backslash = FALSE, \n .     locale = locale, guess_max = guess_max, show_col_types = show_col_types, \n .     progress = progress, altrep = lazy, num_threads = num_threads)",
      "3. vroom_(file, delim = delim %||% col_types$delim, col_names = col_names, \n .     col_types = col_types, id = id, skip = skip, col_select = col_select, \n .     name_repair = .name_repair, na = na, quote = quote, trim_ws = trim_ws, \n .     escape_double = escape_double, escape_backslash = escape_backslash, \n .     comment = comment, skip_empty_rows = skip_empty_rows, locale = locale, \n .     guess_max = guess_max, n_max = n_max, altrep = vroom_altrep(altrep), \n .     num_threads = num_threads, progress = progress)",
      "4. (function (con, ...) \n . UseMethod(\"open\"))(structure(5L, class = c(\"curl\", \"connection\"\n . ), conn_id = <pointer: 0x24b>), \"rb\")",
      "5. open.connection(structure(5L, class = c(\"curl\", \"connection\"), conn_id = <pointer: 0x24b>), \n .     \"rb\")"
     ]
    }
   ],
   "source": [
    "library(tidyverse)\n",
    "# amsterdam, athens, barcelona, berlin, budapest, lisbon, london, paris, rome, vienna\n",
    "# weekdays, weekends\n",
    "# just doing a practice run\n",
    "amsterdam_weekdays <- read_csv(\"https://zenodo.org/record/4446043/files/amsterdam_weekdays.csv\")"
   ]
  },
  {
   "cell_type": "code",
   "execution_count": 5,
   "id": "da826c4d-c468-4065-9e0b-f2141e32ff3b",
   "metadata": {},
   "outputs": [
    {
     "ename": "ERROR",
     "evalue": "Error in select(amsterdam_weekdays, -1): object 'amsterdam_weekdays' not found\n",
     "output_type": "error",
     "traceback": [
      "Error in select(amsterdam_weekdays, -1): object 'amsterdam_weekdays' not found\nTraceback:\n",
      "1. rename(mutate(select(select(select(amsterdam_weekdays, -1), -room_private, \n .     -room_shared, -host_is_superhost, -multi, -biz), -attr_index, \n .     -rest_index), room_type = as_factor(room_type)), dist_from_city_centre = dist, \n .     cost = realSum, attraction_index = attr_index_norm, restaurant_index = rest_index_norm)",
      "2. mutate(select(select(select(amsterdam_weekdays, -1), -room_private, \n .     -room_shared, -host_is_superhost, -multi, -biz), -attr_index, \n .     -rest_index), room_type = as_factor(room_type))",
      "3. select(select(select(amsterdam_weekdays, -1), -room_private, \n .     -room_shared, -host_is_superhost, -multi, -biz), -attr_index, \n .     -rest_index)",
      "4. select(select(amsterdam_weekdays, -1), -room_private, -room_shared, \n .     -host_is_superhost, -multi, -biz)",
      "5. select(amsterdam_weekdays, -1)"
     ]
    }
   ],
   "source": [
    "# clean data\n",
    "amsterdam_weekdays_clean <- amsterdam_weekdays |>\n",
    "    select(-1) |>\n",
    "# according to https://zenodo.org/record/4446043#.Y9Y9ENJBwUE these columns are dummies:\n",
    "    select(-room_private, -room_shared, -host_is_superhost, -multi, -biz) |>\n",
    "# apparently these are already scaled to [0,100] - drop the duplicate\n",
    "    select(-attr_index, -rest_index) |>\n",
    "    mutate(room_type = as_factor(room_type)) |>\n",
    "    rename(dist_from_city_centre = dist,\n",
    "           cost = realSum,\n",
    "           attraction_index = attr_index_norm,\n",
    "           restaurant_index = rest_index_norm)\n",
    "\n",
    "amsterdam_weekdays_clean |>\n",
    "    select(room_type) |>\n",
    "    pull() |>\n",
    "    levels()\n",
    "\n",
    "glimpse(amsterdam_weekdays_clean)"
   ]
  },
  {
   "cell_type": "code",
   "execution_count": 3,
   "id": "e48a28eb-d1b6-4d19-b09e-a0281f17951e",
   "metadata": {},
   "outputs": [],
   "source": [
    "# Summarize training data"
   ]
  },
  {
   "cell_type": "code",
   "execution_count": 4,
   "id": "60912bc3-d0f5-49e7-ae71-a993bf8ab061",
   "metadata": {},
   "outputs": [],
   "source": [
    "# Visualize training data"
   ]
  },
  {
   "cell_type": "markdown",
   "id": "7c2d3aef-ed7d-44fc-b5e4-2e62a9093e08",
   "metadata": {},
   "source": [
    "## Methods\n",
    "(Explain how you will conduct either your data analysis and which variables/columns you will use)\n",
    "- Note - you do not need to use all variables/columns that exist in the raw data set. In fact, that's often not a good idea. For each variable think: is this a useful variable for prediction?\n",
    "\n",
    "(Describe at least one way that you will visualize the results)\n",
    "\n",
    "## Expected outcomes and significance:\n",
    "### What do you expect to find?\n",
    "TBD\n",
    "### What impact could such findings have?\n",
    "TBD\n",
    "### What future questions could this lead to?\n",
    "TBD"
   ]
  }
 ],
 "metadata": {
  "kernelspec": {
   "display_name": "R",
   "language": "R",
   "name": "ir"
  },
  "language_info": {
   "codemirror_mode": "r",
   "file_extension": ".r",
   "mimetype": "text/x-r-source",
   "name": "R",
   "pygments_lexer": "r",
   "version": "4.2.2"
  }
 },
 "nbformat": 4,
 "nbformat_minor": 5
}
